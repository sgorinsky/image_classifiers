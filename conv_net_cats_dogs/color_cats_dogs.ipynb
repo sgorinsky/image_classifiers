{
 "cells": [
  {
   "cell_type": "markdown",
   "metadata": {},
   "source": [
    "Basically, what we're doing here is testing some basic neural nets for image classification against a convolutional neural net. We have two major data sets, one with 64x64 color images and the other with 128x128 grey images. We use the basic neural nets for the grey ones and the convolutional neural net for the color ones."
   ]
  },
  {
   "cell_type": "code",
   "execution_count": 1,
   "metadata": {},
   "outputs": [
    {
     "name": "stderr",
     "output_type": "stream",
     "text": [
      "/anaconda3/lib/python3.6/site-packages/sklearn/cross_validation.py:41: DeprecationWarning: This module was deprecated in version 0.18 in favor of the model_selection module into which all the refactored classes and functions are moved. Also note that the interface of the new CV iterators are different from that of this module. This module will be removed in 0.20.\n",
      "  \"This module will be removed in 0.20.\", DeprecationWarning)\n",
      "/anaconda3/lib/python3.6/site-packages/tensorflow/python/framework/dtypes.py:523: FutureWarning: Passing (type, 1) or '1type' as a synonym of type is deprecated; in a future version of numpy, it will be understood as (type, (1,)) / '(1,)type'.\n",
      "  _np_qint8 = np.dtype([(\"qint8\", np.int8, 1)])\n",
      "/anaconda3/lib/python3.6/site-packages/tensorflow/python/framework/dtypes.py:524: FutureWarning: Passing (type, 1) or '1type' as a synonym of type is deprecated; in a future version of numpy, it will be understood as (type, (1,)) / '(1,)type'.\n",
      "  _np_quint8 = np.dtype([(\"quint8\", np.uint8, 1)])\n",
      "/anaconda3/lib/python3.6/site-packages/tensorflow/python/framework/dtypes.py:525: FutureWarning: Passing (type, 1) or '1type' as a synonym of type is deprecated; in a future version of numpy, it will be understood as (type, (1,)) / '(1,)type'.\n",
      "  _np_qint16 = np.dtype([(\"qint16\", np.int16, 1)])\n",
      "/anaconda3/lib/python3.6/site-packages/tensorflow/python/framework/dtypes.py:526: FutureWarning: Passing (type, 1) or '1type' as a synonym of type is deprecated; in a future version of numpy, it will be understood as (type, (1,)) / '(1,)type'.\n",
      "  _np_quint16 = np.dtype([(\"quint16\", np.uint16, 1)])\n",
      "/anaconda3/lib/python3.6/site-packages/tensorflow/python/framework/dtypes.py:527: FutureWarning: Passing (type, 1) or '1type' as a synonym of type is deprecated; in a future version of numpy, it will be understood as (type, (1,)) / '(1,)type'.\n",
      "  _np_qint32 = np.dtype([(\"qint32\", np.int32, 1)])\n",
      "/anaconda3/lib/python3.6/site-packages/tensorflow/python/framework/dtypes.py:532: FutureWarning: Passing (type, 1) or '1type' as a synonym of type is deprecated; in a future version of numpy, it will be understood as (type, (1,)) / '(1,)type'.\n",
      "  np_resource = np.dtype([(\"resource\", np.ubyte, 1)])\n",
      "/anaconda3/lib/python3.6/site-packages/h5py/__init__.py:36: FutureWarning: Conversion of the second argument of issubdtype from `float` to `np.floating` is deprecated. In future, it will be treated as `np.float64 == np.dtype(float).type`.\n",
      "  from ._conv import register_converters as _register_converters\n"
     ]
    }
   ],
   "source": [
    "from __future__ import division, print_function, absolute_import\n",
    "\n",
    "from scipy.misc import imresize\n",
    "import numpy as np\n",
    "from sklearn.cross_validation import train_test_split\n",
    "import os\n",
    "import os.path  # for manipulation of file path names\n",
    "from glob import glob\n",
    "\n",
    "from matplotlib import pyplot as plt  # for display of images\n",
    "\n",
    "import tensorflow as tf\n",
    "\n",
    "from tflearn.data_utils import shuffle, to_categorical\n",
    "from tflearn.layers.core import input_data, dropout, fully_connected\n",
    "from tflearn.layers.conv import conv_2d, max_pool_2d\n",
    "from tflearn.layers.estimator import regression\n",
    "from tflearn.data_preprocessing import ImagePreprocessing\n",
    "from tflearn.data_augmentation import ImageAugmentation\n",
    "from tflearn.metrics import Accuracy\n",
    "\n",
    "\n",
    "# Open CV for image processing\n",
    "# Installed on Mac with pip install opencv-python \n",
    "import cv2  \n",
    "\n",
    "\n",
    "# \"Human\" sorting of file names facilitated by\n",
    "# https://nedbatchelder.com/blog/200712/human_sorting.html\n",
    "import re\n",
    "\n",
    "import time\n",
    "\n",
    "#suppress tf.logging\n",
    "import logging\n",
    "logging.getLogger('tensorflow').disabled = True\n",
    "\n",
    "RANDOM_SEED = 9999"
   ]
  },
  {
   "cell_type": "code",
   "execution_count": 2,
   "metadata": {},
   "outputs": [],
   "source": [
    "def tryint(s):\n",
    "    try:\n",
    "        return int(s)\n",
    "    except:\n",
    "        return s\n",
    "\n",
    "def alphanum_key(s):\n",
    "    \"\"\" Turn a string into a list of string and number chunks.\n",
    "        \"z23a\" -> [\"z\", 23, \"a\"]\n",
    "    \"\"\"\n",
    "    return [ tryint(c) for c in re.split('([0-9]+)', s) ]\n",
    "\n",
    "def sort_nicely(l):\n",
    "    \"\"\" Sort the given list in the way that humans expect.\n",
    "    \"\"\"\n",
    "    l.sort(key=alphanum_key)\n",
    "    \n",
    "# Generate nicely sorted list of file names, excluding hidden files    \n",
    "def directory_list (dir_name):\n",
    "    start_list = os.listdir(dir_name)\n",
    "    end_list = []\n",
    "    for file in start_list:\n",
    "        if (not file.startswith('.')):\n",
    "            end_list.append(file) \n",
    "    end_list.sort(key = alphanum_key)        \n",
    "    return(end_list)        \n",
    "    \n",
    "# Convert image to numpy array... \n",
    "# Three channels for color converted to grayscale\n",
    "def parse_grayscale(image_file_path):\n",
    "    image = cv2.imread(image_file_path, cv2.IMREAD_GRAYSCALE)\n",
    "    return(image)\n",
    "    \n",
    "# Convert image to numpy array... three channels for color\n",
    "def parse_color(image_file_path):\n",
    "    image = cv2.imread(image_file_path, cv2.IMREAD_COLOR)\n",
    "    # Default cv2 is BGR... need RGB\n",
    "    image = cv2.cvtColor(image, cv2.COLOR_BGR2RGB)\n",
    "    return(image)\n",
    "  \n",
    "def parse_grayscale_and_resize(image_file_path, size = (64, 64)):\n",
    "    image = cv2.imread(image_file_path, cv2.IMREAD_GRAYSCALE)\n",
    "    image = cv2.resize(image, size)\n",
    "    return(image)\n",
    "\n",
    "def parse_color_and_resize(image_file_path, size = (64, 64)):\n",
    "    image = cv2.imread(image_file_path, cv2.IMREAD_COLOR)\n",
    "    # Default cv2 is BGR... need RGB\n",
    "    image = cv2.cvtColor(image, cv2.COLOR_BGR2RGB)\n",
    "    image = cv2.resize(image, size)\n",
    "    return(image)  \n",
    "    \n",
    "def show_grayscale_image(image):\n",
    "    plt.imshow(image, cmap = 'gray') \n",
    "    plt.axis('off')\n",
    "    plt.show()\n",
    "\n",
    "def show_color_image(image):\n",
    "    plt.imshow(image) \n",
    "    plt.axis('off')\n",
    "    plt.show()   \n",
    "\n",
    "# To make output stable across runs\n",
    "def reset_graph(seed= RANDOM_SEED):\n",
    "    tf.reset_default_graph()\n",
    "    tf.set_random_seed(seed)\n",
    "    np.random.seed(seed)"
   ]
  },
  {
   "cell_type": "code",
   "execution_count": 3,
   "metadata": {},
   "outputs": [],
   "source": [
    "# color cats and dogs\n",
    "cats_1000_64_64_3 = np.load('cats_dogs_images/color/cats_1000_64_64_3.npy')\n",
    "dogs_1000_64_64_3 = np.load('cats_dogs_images/color/dogs_1000_64_64_3.npy')"
   ]
  },
  {
   "cell_type": "code",
   "execution_count": 4,
   "metadata": {},
   "outputs": [
    {
     "data": {
      "image/png": "[encoded data removed]",
      "text/plain": [
       "<Figure size 432x288 with 1 Axes>"
      ]
     },
     "metadata": {},
     "output_type": "display_data"
    },
    {
     "data": {
      "image/png": "[encoded data removed]",
      "text/plain": [
       "<Figure size 432x288 with 1 Axes>"
      ]
     },
     "metadata": {},
     "output_type": "display_data"
    }
   ],
   "source": [
    "# Examine first cat and first dog color images\n",
    "show_color_image(cats_1000_64_64_3[0,:,:,2])\n",
    "show_color_image(dogs_1000_64_64_3[0,:,:,2])"
   ]
  },
  {
   "cell_type": "code",
   "execution_count": 5,
   "metadata": {},
   "outputs": [],
   "source": [
    "# importing higher resolution, greyscale files\n",
    "# we're working with them for the 2 neural nets preceding the convolutional neural net to test benchmarks for models\n",
    "cats_1000_128_128_1 = np.load('cats_dogs_images/greyscale/cats_1000_128_128_1.npy')\n",
    "dogs_1000_128_128_1 = np.load('cats_dogs_images/greyscale/dogs_1000_128_128_1.npy')"
   ]
  },
  {
   "cell_type": "code",
   "execution_count": 6,
   "metadata": {},
   "outputs": [
    {
     "data": {
      "image/png": "[encoded data removed]",
      "text/plain": [
       "<Figure size 432x288 with 1 Axes>"
      ]
     },
     "metadata": {},
     "output_type": "display_data"
    },
    {
     "data": {
      "image/png": "[encoded data removed]",
      "text/plain": [
       "<Figure size 432x288 with 1 Axes>"
      ]
     },
     "metadata": {},
     "output_type": "display_data"
    }
   ],
   "source": [
    "# Examine first cat and first dog grayscale images\n",
    "show_grayscale_image(cats_1000_128_128_1[4,:,:,0])\n",
    "show_grayscale_image(dogs_1000_128_128_1[5,:,:,0])"
   ]
  },
  {
   "cell_type": "code",
   "execution_count": 10,
   "metadata": {},
   "outputs": [
    {
     "data": {
      "text/plain": [
       "(2000, 16384)"
      ]
     },
     "execution_count": 10,
     "metadata": {},
     "output_type": "execute_result"
    }
   ],
   "source": [
    "# Stack the numpy arrays for the inputs\n",
    "X_cat_dog = np.concatenate((cats_1000_128_128_1, dogs_1000_128_128_1), axis = 0) \n",
    "X_cat_dog = X_cat_dog.reshape(-1,128*128) # note coversion to 16384 (128x128) inputs\n",
    "# Define the labels to be used 1000 cats = 0 1000 dogs = 1\n",
    "y_cat_dog = np.concatenate((np.zeros((1000), dtype = np.int32), \n",
    "                      np.ones((1000), dtype = np.int32)), axis = 0)\n",
    "X_cat_dog.shape #check data shape"
   ]
  },
  {
   "cell_type": "code",
   "execution_count": 11,
   "metadata": {},
   "outputs": [
    {
     "data": {
      "text/plain": [
       "(2000,)"
      ]
     },
     "execution_count": 11,
     "metadata": {},
     "output_type": "execute_result"
    }
   ],
   "source": [
    "y_cat_dog.shape #check target data shape"
   ]
  },
  {
   "cell_type": "code",
   "execution_count": 12,
   "metadata": {},
   "outputs": [],
   "source": [
    "#Scikit Learn for min-max scaling of the data\n",
    "from sklearn.preprocessing import MinMaxScaler\n",
    "scaler = MinMaxScaler()\n",
    "scaler.fit(np.array([0., 255.]).reshape(-1,1)) \n",
    "X_cat_dog_min_max = scaler.transform(X_cat_dog)"
   ]
  },
  {
   "cell_type": "code",
   "execution_count": 13,
   "metadata": {},
   "outputs": [],
   "source": [
    "#Scikit Learn for min-max scaling of the data\n",
    "from sklearn.preprocessing import RobustScaler\n",
    "scaler2 = RobustScaler()\n",
    "scaler2.fit(np.array([0., 255.]).reshape(-1,1)) \n",
    "X_cat_dog_robust_scale = scaler2.transform(X_cat_dog)"
   ]
  },
  {
   "cell_type": "code",
   "execution_count": 14,
   "metadata": {},
   "outputs": [
    {
     "data": {
      "text/plain": [
       "(2000, 16384)"
      ]
     },
     "execution_count": 14,
     "metadata": {},
     "output_type": "execute_result"
    }
   ],
   "source": [
    "X_cat_dog_min_max.shape"
   ]
  },
  {
   "cell_type": "code",
   "execution_count": 15,
   "metadata": {},
   "outputs": [
    {
     "data": {
      "text/plain": [
       "(2000, 16384)"
      ]
     },
     "execution_count": 15,
     "metadata": {},
     "output_type": "execute_result"
    }
   ],
   "source": [
    "X_cat_dog_robust_scale.shape"
   ]
  },
  {
   "cell_type": "code",
   "execution_count": 16,
   "metadata": {},
   "outputs": [],
   "source": [
    "# Scikit Learn for random splitting of the data  \n",
    "from sklearn.model_selection import train_test_split\n",
    "\n",
    "# Random splitting of the data in to training (80%) and test (20%)  \n",
    "X_train_m1, X_test_m1, y_train_m1, y_test_m1 = \\\n",
    "    train_test_split(X_cat_dog_min_max, y_cat_dog, test_size=0.20, \n",
    "                     random_state = RANDOM_SEED)\n",
    "\n",
    "# Random splitting of the data in to training (80%) and test (20%)  \n",
    "X_train_m2, X_test_m2, y_train_m2, y_test_m2 = \\\n",
    "    train_test_split(X_cat_dog_robust_scale, y_cat_dog, test_size=0.20, \n",
    "                     random_state = RANDOM_SEED)"
   ]
  },
  {
   "cell_type": "code",
   "execution_count": 17,
   "metadata": {},
   "outputs": [
    {
     "data": {
      "text/plain": [
       "(1600, 16384)"
      ]
     },
     "execution_count": 17,
     "metadata": {},
     "output_type": "execute_result"
    }
   ],
   "source": [
    "X_train_m1.shape"
   ]
  },
  {
   "cell_type": "code",
   "execution_count": 18,
   "metadata": {},
   "outputs": [
    {
     "data": {
      "text/plain": [
       "(1600,)"
      ]
     },
     "execution_count": 18,
     "metadata": {},
     "output_type": "execute_result"
    }
   ],
   "source": [
    "y_train_m1.shape"
   ]
  },
  {
   "cell_type": "code",
   "execution_count": 19,
   "metadata": {},
   "outputs": [
    {
     "data": {
      "text/plain": [
       "(2000, 64, 64, 3)"
      ]
     },
     "execution_count": 19,
     "metadata": {},
     "output_type": "execute_result"
    }
   ],
   "source": [
    "X_cat_dog_m3 = np.concatenate((cats_1000_64_64_3, dogs_1000_64_64_3), axis = 0) \n",
    "#X_cat_dog = X_cat_dog.reshape(-1,width*height) # note coversion to 16384 (128x128) inputs\n",
    "#Define the labels to be used 1000 cats = 0 1000 dogs = 1\n",
    "y_cat_dog_m3 = np.concatenate((np.zeros((1000), dtype = np.int32), \n",
    "                      np.ones((1000), dtype = np.int32)), axis = 0)\n",
    "X_cat_dog_m3.shape #check data shape"
   ]
  },
  {
   "cell_type": "code",
   "execution_count": 20,
   "metadata": {},
   "outputs": [
    {
     "data": {
      "text/plain": [
       "(2000,)"
      ]
     },
     "execution_count": 20,
     "metadata": {},
     "output_type": "execute_result"
    }
   ],
   "source": [
    "y_cat_dog_m3.shape #check data shape"
   ]
  },
  {
   "cell_type": "code",
   "execution_count": 21,
   "metadata": {},
   "outputs": [],
   "source": [
    "# test-train split   \n",
    "X_m3, X_test_m3, Y_m3, Y_test_m3 = train_test_split(X_cat_dog_m3, y_cat_dog_m3, test_size=0.2, random_state=42)\n",
    "\n",
    "# encode the Ys\n",
    "Y_m3 = to_categorical(Y_m3, 2)\n",
    "Y_test_m3 = to_categorical(Y_test_m3, 2)"
   ]
  },
  {
   "cell_type": "code",
   "execution_count": 22,
   "metadata": {},
   "outputs": [
    {
     "data": {
      "text/plain": [
       "(1600, 64, 64, 3)"
      ]
     },
     "execution_count": 22,
     "metadata": {},
     "output_type": "execute_result"
    }
   ],
   "source": [
    "X_m3.shape"
   ]
  },
  {
   "cell_type": "code",
   "execution_count": 23,
   "metadata": {},
   "outputs": [
    {
     "data": {
      "text/plain": [
       "(1600, 2)"
      ]
     },
     "execution_count": 23,
     "metadata": {},
     "output_type": "execute_result"
    }
   ],
   "source": [
    "Y_m3.shape"
   ]
  },
  {
   "cell_type": "code",
   "execution_count": 24,
   "metadata": {},
   "outputs": [],
   "source": [
    "# setup - define neuron layer\n",
    "def neuron_layer(X, n_neurons, name, activation=None):\n",
    "    with tf.name_scope(name):\n",
    "        n_inputs = int(X.get_shape()[1])\n",
    "        stddev = 2 / np.sqrt(n_inputs)\n",
    "        init = tf.truncated_normal((n_inputs, n_neurons), stddev=stddev)\n",
    "        W = tf.Variable(init, name=\"kernel\")\n",
    "        b = tf.Variable(tf.zeros([n_neurons]), name=\"bias\")\n",
    "        Z = tf.matmul(X, W) + b\n",
    "        if activation is not None:\n",
    "            return activation(Z)\n",
    "        else:\n",
    "            return Z"
   ]
  },
  {
   "cell_type": "code",
   "execution_count": 25,
   "metadata": {},
   "outputs": [],
   "source": [
    "#set height & width\n",
    "height = 128\n",
    "width = 128 \n",
    "\n",
    "# 300 and 100 nodes for layers 1 and 2 as used with MNIST from Geron\n",
    "n_hidden1 = 300\n",
    "n_hidden2 = 100\n",
    "n_hidden3 = 50\n",
    "n_hidden4 = 500\n",
    "\n",
    "channels = 1  # When working with color images use channels = 3\n",
    "\n",
    "n_inputs = height * width\n",
    "\n",
    "#CatsDogs# Has two output values # MNIST had ten digits n_outputs = 10  \n",
    "n_outputs = 2  # binary classification for Cats and Dogs, 1 output node 0/1\n",
    "\n",
    "reset_graph()\n",
    "\n",
    "# dnn... Deep neural network model from Geron Chapter 10\n",
    "# Note that this model makes no use of the fact that we have\n",
    "# pixel data arranged in rows and columns\n",
    "# So a 64x64 matrix of raster values becomes a vector of 4096 input variables\n",
    "X = tf.placeholder(tf.float32, shape=(None, n_inputs), name=\"X\")\n",
    "y = tf.placeholder(tf.int32, shape=(None), name=\"y\")"
   ]
  },
  {
   "cell_type": "code",
   "execution_count": 31,
   "metadata": {},
   "outputs": [],
   "source": [
    "with tf.name_scope(\"dnn\"):\n",
    "    hidden1 = neuron_layer(X, n_hidden1, name=\"hidden1\",\n",
    "                           activation=tf.nn.relu)\n",
    "    hidden2 = neuron_layer(hidden1, n_hidden2, name=\"hidden2\",\n",
    "                           activation=tf.nn.relu)\n",
    "    logits = neuron_layer(hidden2, n_outputs, name=\"outputs\")\n",
    "\n",
    "with tf.name_scope(\"loss\"):\n",
    "    xentropy = tf.nn.sparse_softmax_cross_entropy_with_logits(labels=y,\n",
    "                                                              logits=logits)\n",
    "    loss = tf.reduce_mean(xentropy, name=\"loss\")\n",
    "\n",
    "learning_rate = 0.01\n",
    "\n",
    "with tf.name_scope(\"train\"):\n",
    "    optimizer = tf.train.GradientDescentOptimizer(learning_rate)\n",
    "    training_op = optimizer.minimize(loss)\n",
    "    \n",
    "with tf.name_scope(\"eval\"):\n",
    "    correct = tf.nn.in_top_k(logits, y, 1)\n",
    "    accuracy = tf.reduce_mean(tf.cast(correct, tf.float32))    \n",
    "\n",
    "init = tf.global_variables_initializer()\n",
    "saver = tf.train.Saver()"
   ]
  },
  {
   "cell_type": "markdown",
   "metadata": {},
   "source": [
    "### First Neural Net: 50 Epochs, Min-Max Scaler"
   ]
  },
  {
   "cell_type": "code",
   "execution_count": 32,
   "metadata": {},
   "outputs": [
    {
     "name": "stdout",
     "output_type": "stream",
     "text": [
      "0 Train accuracy: 0.61 Test accuracy: 0.485\n",
      "1 Train accuracy: 0.6 Test accuracy: 0.485\n",
      "2 Train accuracy: 0.61 Test accuracy: 0.485\n",
      "3 Train accuracy: 0.62 Test accuracy: 0.495\n",
      "4 Train accuracy: 0.62 Test accuracy: 0.4925\n",
      "5 Train accuracy: 0.63 Test accuracy: 0.5\n",
      "6 Train accuracy: 0.65 Test accuracy: 0.5025\n",
      "7 Train accuracy: 0.68 Test accuracy: 0.505\n",
      "8 Train accuracy: 0.67 Test accuracy: 0.5175\n",
      "9 Train accuracy: 0.68 Test accuracy: 0.5125\n",
      "10 Train accuracy: 0.7 Test accuracy: 0.5325\n",
      "11 Train accuracy: 0.72 Test accuracy: 0.5325\n",
      "12 Train accuracy: 0.69 Test accuracy: 0.5275\n",
      "13 Train accuracy: 0.69 Test accuracy: 0.5225\n",
      "14 Train accuracy: 0.69 Test accuracy: 0.525\n",
      "15 Train accuracy: 0.7 Test accuracy: 0.54\n",
      "16 Train accuracy: 0.74 Test accuracy: 0.55\n",
      "17 Train accuracy: 0.69 Test accuracy: 0.535\n",
      "18 Train accuracy: 0.73 Test accuracy: 0.53\n",
      "19 Train accuracy: 0.66 Test accuracy: 0.525\n",
      "20 Train accuracy: 0.77 Test accuracy: 0.545\n",
      "21 Train accuracy: 0.71 Test accuracy: 0.54\n",
      "22 Train accuracy: 0.78 Test accuracy: 0.55\n",
      "23 Train accuracy: 0.77 Test accuracy: 0.5475\n",
      "24 Train accuracy: 0.79 Test accuracy: 0.545\n",
      "25 Train accuracy: 0.81 Test accuracy: 0.5525\n",
      "26 Train accuracy: 0.76 Test accuracy: 0.5975\n",
      "27 Train accuracy: 0.77 Test accuracy: 0.57\n",
      "28 Train accuracy: 0.78 Test accuracy: 0.58\n",
      "29 Train accuracy: 0.79 Test accuracy: 0.5475\n",
      "30 Train accuracy: 0.77 Test accuracy: 0.55\n",
      "31 Train accuracy: 0.83 Test accuracy: 0.555\n",
      "32 Train accuracy: 0.67 Test accuracy: 0.615\n",
      "33 Train accuracy: 0.81 Test accuracy: 0.585\n",
      "34 Train accuracy: 0.77 Test accuracy: 0.56\n",
      "35 Train accuracy: 0.74 Test accuracy: 0.59\n",
      "36 Train accuracy: 0.83 Test accuracy: 0.55\n",
      "37 Train accuracy: 0.86 Test accuracy: 0.5525\n",
      "38 Train accuracy: 0.69 Test accuracy: 0.525\n",
      "39 Train accuracy: 0.76 Test accuracy: 0.59\n",
      "40 Train accuracy: 0.85 Test accuracy: 0.58\n",
      "41 Train accuracy: 0.76 Test accuracy: 0.585\n",
      "42 Train accuracy: 0.85 Test accuracy: 0.5725\n",
      "43 Train accuracy: 0.66 Test accuracy: 0.51\n",
      "44 Train accuracy: 0.74 Test accuracy: 0.5325\n",
      "45 Train accuracy: 0.85 Test accuracy: 0.585\n",
      "46 Train accuracy: 0.87 Test accuracy: 0.55\n",
      "47 Train accuracy: 0.78 Test accuracy: 0.555\n",
      "48 Train accuracy: 0.68 Test accuracy: 0.5325\n",
      "49 Train accuracy: 0.87 Test accuracy: 0.5575\n",
      "CPU times: user 1min 41s, sys: 4.74 s, total: 1min 46s\n",
      "Wall time: 22.1 s\n"
     ]
    }
   ],
   "source": [
    "%%time\n",
    "\n",
    "init = tf.global_variables_initializer()    \n",
    "\n",
    "n_epochs = 50\n",
    "batch_size = 100\n",
    "\n",
    "with tf.Session() as sess:\n",
    "    init.run()\n",
    "    for epoch in range(n_epochs):\n",
    "        for iteration in range(y_train_m1.shape[0] // batch_size):\n",
    "            X_batch = X_train_m1[iteration*batch_size:(iteration + 1)*batch_size,:]\n",
    "            y_batch = y_train_m1[iteration*batch_size:(iteration + 1)*batch_size]\n",
    "            sess.run(training_op, feed_dict={X: X_batch, y: y_batch})\n",
    "        acc_train = accuracy.eval(feed_dict={X: X_batch, y: y_batch})\n",
    "        acc_test = accuracy.eval(feed_dict={X: X_test_m1, y: y_test_m1})\n",
    "        print(epoch, \"Train accuracy:\", acc_train, \"Test accuracy:\", acc_test)\n",
    "\n",
    "        save_path = saver.save(sess, \"./my_catdog_model_m1\")"
   ]
  },
  {
   "cell_type": "markdown",
   "metadata": {},
   "source": [
    "### Second Neural Net: 50 Epochs, Robust Scaler"
   ]
  },
  {
   "cell_type": "code",
   "execution_count": 34,
   "metadata": {},
   "outputs": [
    {
     "name": "stdout",
     "output_type": "stream",
     "text": [
      "0 Train accuracy: 0.79 Test accuracy: 0.505\n",
      "1 Train accuracy: 0.91 Test accuracy: 0.51\n",
      "2 Train accuracy: 0.92 Test accuracy: 0.525\n",
      "3 Train accuracy: 0.94 Test accuracy: 0.5375\n",
      "4 Train accuracy: 0.95 Test accuracy: 0.5375\n",
      "5 Train accuracy: 0.97 Test accuracy: 0.5425\n",
      "6 Train accuracy: 0.97 Test accuracy: 0.5425\n",
      "7 Train accuracy: 0.97 Test accuracy: 0.55\n",
      "8 Train accuracy: 1.0 Test accuracy: 0.55\n",
      "9 Train accuracy: 1.0 Test accuracy: 0.5575\n",
      "10 Train accuracy: 1.0 Test accuracy: 0.5525\n",
      "11 Train accuracy: 1.0 Test accuracy: 0.5575\n",
      "12 Train accuracy: 1.0 Test accuracy: 0.5625\n",
      "13 Train accuracy: 1.0 Test accuracy: 0.5575\n",
      "14 Train accuracy: 1.0 Test accuracy: 0.5625\n",
      "15 Train accuracy: 1.0 Test accuracy: 0.5625\n",
      "16 Train accuracy: 1.0 Test accuracy: 0.56\n",
      "17 Train accuracy: 1.0 Test accuracy: 0.56\n",
      "18 Train accuracy: 1.0 Test accuracy: 0.56\n",
      "19 Train accuracy: 1.0 Test accuracy: 0.5575\n",
      "20 Train accuracy: 1.0 Test accuracy: 0.5525\n",
      "21 Train accuracy: 1.0 Test accuracy: 0.5475\n",
      "22 Train accuracy: 1.0 Test accuracy: 0.5525\n",
      "23 Train accuracy: 1.0 Test accuracy: 0.5575\n",
      "24 Train accuracy: 1.0 Test accuracy: 0.555\n",
      "25 Train accuracy: 1.0 Test accuracy: 0.555\n",
      "26 Train accuracy: 1.0 Test accuracy: 0.555\n",
      "27 Train accuracy: 1.0 Test accuracy: 0.555\n",
      "28 Train accuracy: 1.0 Test accuracy: 0.5575\n",
      "29 Train accuracy: 1.0 Test accuracy: 0.5525\n",
      "30 Train accuracy: 1.0 Test accuracy: 0.5525\n",
      "31 Train accuracy: 1.0 Test accuracy: 0.555\n",
      "32 Train accuracy: 1.0 Test accuracy: 0.555\n",
      "33 Train accuracy: 1.0 Test accuracy: 0.56\n",
      "34 Train accuracy: 1.0 Test accuracy: 0.56\n",
      "35 Train accuracy: 1.0 Test accuracy: 0.555\n",
      "36 Train accuracy: 1.0 Test accuracy: 0.5575\n",
      "37 Train accuracy: 1.0 Test accuracy: 0.56\n",
      "38 Train accuracy: 1.0 Test accuracy: 0.56\n",
      "39 Train accuracy: 1.0 Test accuracy: 0.56\n",
      "40 Train accuracy: 1.0 Test accuracy: 0.56\n",
      "41 Train accuracy: 1.0 Test accuracy: 0.5575\n",
      "42 Train accuracy: 1.0 Test accuracy: 0.56\n",
      "43 Train accuracy: 1.0 Test accuracy: 0.5625\n",
      "44 Train accuracy: 1.0 Test accuracy: 0.56\n",
      "45 Train accuracy: 1.0 Test accuracy: 0.5625\n",
      "46 Train accuracy: 1.0 Test accuracy: 0.56\n",
      "47 Train accuracy: 1.0 Test accuracy: 0.56\n",
      "48 Train accuracy: 1.0 Test accuracy: 0.56\n",
      "49 Train accuracy: 1.0 Test accuracy: 0.5575\n",
      "CPU times: user 1min 55s, sys: 6.63 s, total: 2min 2s\n",
      "Wall time: 33.4 s\n"
     ]
    }
   ],
   "source": [
    "%%time\n",
    "\n",
    "init = tf.global_variables_initializer()    \n",
    "\n",
    "n_epochs = 50\n",
    "batch_size = 100\n",
    "\n",
    "with tf.Session() as sess:\n",
    "    init.run()\n",
    "    for epoch in range(n_epochs):\n",
    "        for iteration in range(y_train_m2.shape[0] // batch_size):\n",
    "            X_batch = X_train_m2[iteration*batch_size:(iteration + 1)*batch_size,:]\n",
    "            y_batch = y_train_m2[iteration*batch_size:(iteration + 1)*batch_size]\n",
    "            sess.run(training_op, feed_dict={X: X_batch, y: y_batch})\n",
    "        acc_train = accuracy.eval(feed_dict={X: X_batch, y: y_batch})\n",
    "        acc_test = accuracy.eval(feed_dict={X: X_test_m2, y: y_test_m2})\n",
    "        print(epoch, \"Train accuracy:\", acc_train, \"Test accuracy:\", acc_test)\n",
    "\n",
    "        save_path = saver.save(sess, \"./my_catdog_model_m2\")"
   ]
  },
  {
   "cell_type": "code",
   "execution_count": 37,
   "metadata": {},
   "outputs": [],
   "source": [
    "reset_graph()\n",
    "\n",
    "#set height & width\n",
    "height = 64\n",
    "width = 64\n",
    "channels = 3\n",
    "\n",
    "###################################\n",
    "# Image transformations\n",
    "###################################\n",
    "\n",
    "# normalisation of images\n",
    "img_prep = ImagePreprocessing()\n",
    "img_prep.add_featurewise_zero_center()\n",
    "img_prep.add_featurewise_stdnorm()\n",
    "\n",
    "# Create extra synthetic training data by flipping & rotating images\n",
    "img_aug = ImageAugmentation()\n",
    "img_aug.add_random_flip_leftright()\n",
    "img_aug.add_random_rotation(max_angle=25.)"
   ]
  },
  {
   "cell_type": "code",
   "execution_count": 38,
   "metadata": {},
   "outputs": [
    {
     "data": {
      "text/plain": [
       "(400, 64, 64, 3)"
      ]
     },
     "execution_count": 38,
     "metadata": {},
     "output_type": "execute_result"
    }
   ],
   "source": [
    "X_test_m3.shape"
   ]
  },
  {
   "cell_type": "markdown",
   "metadata": {},
   "source": [
    "### Convolutional Neural Net: 100 Epochs, Many Different Layers"
   ]
  },
  {
   "cell_type": "code",
   "execution_count": 39,
   "metadata": {},
   "outputs": [],
   "source": [
    "###################################\n",
    "# Define network architecture\n",
    "###################################\n",
    "\n",
    "import tflearn \n",
    "\n",
    "# Inputs are the 64x64 images with 3 color channels (red, green and blue)\n",
    "network = input_data(shape=[None, 64, 64, 3],\n",
    "                     data_preprocessing=img_prep,\n",
    "                     data_augmentation=img_aug)\n",
    "\n",
    "# 1: Convolution layer with 32 filters, each 3x3x3\n",
    "conv_1 = conv_2d(network, 32, 3, activation='relu', name='conv_1')\n",
    "\n",
    "# 2: Max pooling layer\n",
    "network = max_pool_2d(conv_1, 2)\n",
    "\n",
    "# 3: Convolution layer with 64 filters\n",
    "conv_2 = conv_2d(network, 64, 3, activation='relu', name='conv_2')\n",
    "\n",
    "# 4: Convolution layer with 64 filters\n",
    "conv_3 = conv_2d(conv_2, 64, 3, activation='relu', name='conv_3')\n",
    "\n",
    "# 5: Max pooling layer\n",
    "network = max_pool_2d(conv_3, 2)\n",
    "\n",
    "# 6: Fully-connected 512 node layer\n",
    "network = fully_connected(network, 512, activation='relu')\n",
    "\n",
    "# 7: Dropout layer to combat overfitting\n",
    "network = dropout(network, 0.5)\n",
    "\n",
    "# 8: Fully-connected layer with two outputs\n",
    "network = fully_connected(network, 2, activation='softmax')\n",
    "\n",
    "# Configure how the network will be trained\n",
    "acc = Accuracy(name=\"Accuracy\")\n",
    "network = regression(network, optimizer='adam',\n",
    "                     loss='categorical_crossentropy',\n",
    "                     learning_rate=0.0005, metric=acc)\n",
    "\n",
    "# Wrap the network in a model object\n",
    "model = tflearn.DNN(network, checkpoint_path='model_cat_dog_6.tflearn', max_checkpoints = 3,\n",
    "                    tensorboard_verbose = 3, tensorboard_dir='tmp/tflearn_logs/')"
   ]
  },
  {
   "cell_type": "code",
   "execution_count": 70,
   "metadata": {},
   "outputs": [
    {
     "name": "stdout",
     "output_type": "stream",
     "text": [
      "(64, 64, 3)\n"
     ]
    }
   ],
   "source": [
    "print(X_m3[0].shape)\n"
   ]
  },
  {
   "cell_type": "code",
   "execution_count": 45,
   "metadata": {},
   "outputs": [
    {
     "data": {
      "text/plain": [
       "array([[1., 0.],\n",
       "       [1., 0.],\n",
       "       [1., 0.],\n",
       "       [1., 0.],\n",
       "       [1., 0.],\n",
       "       [0., 1.],\n",
       "       [0., 1.],\n",
       "       [1., 0.],\n",
       "       [0., 1.],\n",
       "       [0., 1.],\n",
       "       [1., 0.],\n",
       "       [1., 0.],\n",
       "       [0., 1.],\n",
       "       [1., 0.],\n",
       "       [1., 0.],\n",
       "       [0., 1.],\n",
       "       [1., 0.],\n",
       "       [1., 0.],\n",
       "       [1., 0.],\n",
       "       [0., 1.]])"
      ]
     },
     "execution_count": 45,
     "metadata": {},
     "output_type": "execute_result"
    }
   ],
   "source": [
    "Y_m3[0:20]"
   ]
  },
  {
   "cell_type": "code",
   "execution_count": 47,
   "metadata": {},
   "outputs": [
    {
     "name": "stdout",
     "output_type": "stream",
     "text": [
      "Training Step: 399  | total loss: \u001b[1m\u001b[32m0.17526\u001b[0m\u001b[0m | time: 15.045s\n",
      "| Adam | epoch: 100 | loss: 0.17526 - Accuracy: 0.9374 -- iter: 1500/1600\n",
      "Training Step: 400  | total loss: \u001b[1m\u001b[32m0.17425\u001b[0m\u001b[0m | time: 17.848s\n",
      "| Adam | epoch: 100 | loss: 0.17425 - Accuracy: 0.9387 | val_loss: 0.59683 - val_acc: 0.7900 -- iter: 1600/1600\n",
      "--\n",
      "CPU times: user 3h 13min 9s, sys: 26min 26s, total: 3h 39min 36s\n",
      "Wall time: 38min 39s\n"
     ]
    }
   ],
   "source": [
    "%%time\n",
    "###################################\n",
    "# Train model for 100 epochs\n",
    "###################################\n",
    "model.fit(X_m3, Y_m3, validation_set=(X_test_m3, Y_test_m3), batch_size=500,\n",
    "      n_epoch=100, run_id='model_cat_dog_6', show_metric=True)\n",
    "\n",
    "model.save('model_cat_dog_6_final.tflearn')"
   ]
  }
 ],
 "metadata": {
  "kernelspec": {
   "display_name": "Python 3",
   "language": "python",
   "name": "python3"
  },
  "language_info": {
   "codemirror_mode": {
    "name": "ipython",
    "version": 3
   },
   "file_extension": ".py",
   "mimetype": "text/x-python",
   "name": "python",
   "nbconvert_exporter": "python",
   "pygments_lexer": "ipython3",
   "version": "3.6.8"
  }
 },
 "nbformat": 4,
 "nbformat_minor": 2
}
